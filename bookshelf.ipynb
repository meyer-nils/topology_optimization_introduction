{
 "cells": [
  {
   "cell_type": "markdown",
   "metadata": {},
   "source": [
    "# Simple topology optimization for a bookshelf\n",
    "Let us consider a bookshelf, that needs a support structure. The picture below shows the available two-dimensional design domain for such a support. We could design a structure based on engineering intuition and may even simulate its performance. However, this approach does not necessarily result in the best possible design. Instead, we want to apply topology optimization to find the optimal distribution of material in the design space. This approach is not based on engineering intuition, but a formal data driven way to find a design suggestion for the bookshelf.\n",
    "\n",
    "![domain](img/domain.png)\n",
    "\n",
    "## Formalizing the problem statement\n",
    "\n",
    "First, the problem is described as a boundary value problem with the design domain $\\Omega$, the wall mount boundary $\\partial \\Omega_D$ and the load boundary $\\partial \\Omega_N$. Without considering the optimization yet, we can formulate the elastic problem as \n",
    "\n",
    "$$ \\textrm{div}(\\sigma) = 0 \\quad \\textrm{on} \\quad \\Omega $$\n",
    "\n",
    "with the strain tensor \n",
    "\n",
    "$$\\varepsilon = \\textrm{symgrad}(u)$$\n",
    "\n",
    "and the boundary conditions \n",
    "\n",
    "$$u = 0 \\quad \\textrm{on} \\quad \\partial\\Omega_D $$\n",
    "\n",
    "$$\\sigma n = f \\quad \\textrm{on} \\quad \\partial\\Omega_N. $$\n",
    "\n"
   ]
  },
  {
   "cell_type": "markdown",
   "metadata": {},
   "source": [
    "## Material model \n",
    "\n",
    "A material model is required to compute the stress for a given strain field $\\varepsilon = \\textrm{symgrad}(u)$. An isotropic material model is used here, which is defined by two parameters, e.g. Youngs modulus and poisson ratio or the two Lame constants. The 3D notation is a bit simpler for Lame constants $\\mu$ and $\\lambda$, hence this version is chosen here. It reads \n",
    "\n",
    "$$\\sigma = 2 \\mu \\varepsilon + \\lambda \\textrm{tr}(\\varepsilon) I,$$ \n",
    "\n",
    "were the SIMP approach is applied to compute \n",
    "\n",
    "$$ \\mu = \\mu_0 \\hat{\\rho}^p \\quad \\textrm{and} \\quad \\lambda = \\lambda \\hat{\\rho}^p$$\n",
    "\n",
    "with the normalized density $\\hat{\\rho} = \\frac{\\rho}{\\rho_0}$."
   ]
  },
  {
   "cell_type": "code",
   "execution_count": 1,
   "metadata": {},
   "outputs": [
    {
     "data": {
      "image/png": "[encoded data removed]",
      "text/plain": [
       "<Figure size 432x288 with 1 Axes>"
      ]
     },
     "metadata": {
      "needs_background": "light"
     },
     "output_type": "display_data"
    }
   ],
   "source": [
    "import matplotlib.pyplot as plt\n",
    "import numpy as np\n",
    "\n",
    "# Material parameters\n",
    "p=3\n",
    "mu0 = 1.0\n",
    "lbd0 = 1.0\n",
    "\n",
    "# Definition of the material model\n",
    "def stress(eps, rho_hat):\n",
    "    from skfem.helpers import trace, eye\n",
    "    mu = mu0 * rho_hat**p \n",
    "    lbd = lbd0 * rho_hat**p \n",
    "    return 2.0 * mu * eps + lbd * eye(trace(eps), eps.shape[0])\n",
    "\n",
    "# Plot the SIMP relation\n",
    "rho_hat_plot = np.linspace(0,1,10)\n",
    "plt.plot(rho_hat_plot, mu0 * rho_hat_plot**p)\n",
    "plt.xlabel(r\"Normalized density $\\hat{\\rho}$\")\n",
    "plt.ylabel(r\"Shear modulus $\\mu$\")\n",
    "plt.xlim([0, 1])\n",
    "plt.ylim([0, mu0])\n",
    "plt.show()\n"
   ]
  },
  {
   "cell_type": "markdown",
   "metadata": {},
   "source": [
    "## Weak form of the momentum equation\n",
    "\n",
    "\n",
    "\n",
    "The weak form of the momentum balance is \n",
    "\n",
    "$\\int_\\Omega \\sigma(\\textrm{symgrad}(u)) \\cdot \\textrm{symgrad}(v) dV = f \\int_{\\partial \\Omega} v \\cdot n dA$"
   ]
  },
  {
   "cell_type": "code",
   "execution_count": 2,
   "metadata": {},
   "outputs": [],
   "source": [
    "import skfem as fem\n",
    "\n",
    "@fem.BilinearForm\n",
    "def momentum_flux(u, v, w):\n",
    "    from skfem.helpers import ddot, sym_grad\n",
    "    return ddot(stress(sym_grad(u), w.rho), sym_grad(v))\n",
    "\n",
    "@fem.LinearForm\n",
    "def loading(v, w):\n",
    "    from skfem.helpers import dot\n",
    "    return dot(w.n, v)"
   ]
  },
  {
   "cell_type": "markdown",
   "metadata": {},
   "source": [
    "## Finite element mesh \n",
    "Create a finite element mesh with quadratic isoparametric elements. The parameter 'refinements' defines, how often the square domain should be subdivided into smaller elements. A value of 0 results in a single element and a value of 1 results in four elements, because the square is subdivided in two parts in each direction x and y. A value of 2 results in 16 elements, 3 in 81 and so on...\n",
    "The parameter 'order' is the order of the element shape functions - it can be 1 or 2."
   ]
  },
  {
   "cell_type": "code",
   "execution_count": 3,
   "metadata": {},
   "outputs": [],
   "source": [
    "# Mesh parameters \n",
    "refinements = 4\n",
    "order = 1\n",
    "\n",
    "if order == 1:\n",
    "    mesh = fem.mesh.MeshQuad1().refined(refinements)\n",
    "    e_type = fem.ElementQuad1()\n",
    "elif order == 2:\n",
    "    mesh = fem.mesh.MeshQuad2().refined(refinements)\n",
    "    e_type = fem.ElementQuad2()\n",
    "mesh = mesh.with_boundaries({\"top\": lambda x : x[1] == 1})\n",
    "\n",
    "mapping = fem.MappingIsoparametric(mesh, e_type)\n",
    "e = fem.ElementVector(e_type, 2)\n",
    "basis = fem.Basis(mesh, e, mapping)\n",
    "basis0 = basis.with_element(fem.ElementQuad0())"
   ]
  },
  {
   "cell_type": "markdown",
   "metadata": {},
   "source": [
    "## Boundary conditions"
   ]
  },
  {
   "cell_type": "code",
   "execution_count": 4,
   "metadata": {},
   "outputs": [],
   "source": [
    "load_basis = fem.FacetBasis(mesh, e, facets=mesh.boundaries[\"top\"])\n",
    "\n",
    "dofs = {'left' : basis.get_dofs(lambda x: x[0] == 0.0)}\n",
    "u0 = basis.zeros()\n",
    "I = basis.complement_dofs(dofs)\n",
    "\n",
    "# Load at top.\n",
    "f = 10.0"
   ]
  },
  {
   "cell_type": "markdown",
   "metadata": {},
   "source": [
    "## Target function for topology optimization"
   ]
  },
  {
   "cell_type": "code",
   "execution_count": 5,
   "metadata": {},
   "outputs": [],
   "source": [
    "def target_function(design):\n",
    "    # Assembly\n",
    "    K = fem.asm(momentum_flux, basis, rho=basis0.interpolate(design))\n",
    "    B = f  * fem.asm(loading, load_basis)\n",
    "\n",
    "    # Solution\n",
    "    u = fem.solve(*fem.condense(K, B, x=u0, I=I))\n",
    "    \n",
    "    # Evaluation of strain energy\n",
    "    return 0.5 * (u @ K @ u)"
   ]
  },
  {
   "cell_type": "markdown",
   "metadata": {},
   "source": [
    "## Optimization"
   ]
  },
  {
   "cell_type": "code",
   "execution_count": 6,
   "metadata": {},
   "outputs": [
    {
     "name": "stderr",
     "output_type": "stream",
     "text": [
      "/Users/nilsmeyer/.pyenv/versions/3.9.2/lib/python3.9/site-packages/scipy/optimize/_hessian_update_strategy.py:182: UserWarning: delta_grad == 0.0. Check if the approximated function is linear. If the function is linear better results can be obtained by defining the Hessian as zero instead of using quasi-Newton approximations.\n",
      "  warn('delta_grad == 0.0. Check if the approximated '\n"
     ]
    },
    {
     "name": "stdout",
     "output_type": "stream",
     "text": [
      "Success state:True\n",
      "Iterations: 60\n",
      "Solver message: `gtol` termination condition is satisfied.\n"
     ]
    },
    {
     "data": {
      "image/png": "[encoded data removed]",
      "text/plain": [
       "<Figure size 432x288 with 1 Axes>"
      ]
     },
     "metadata": {
      "needs_background": "light"
     },
     "output_type": "display_data"
    },
    {
     "data": {
      "image/png": "[encoded data removed]",
      "text/plain": [
       "<Figure size 432x288 with 2 Axes>"
      ]
     },
     "metadata": {
      "needs_background": "light"
     },
     "output_type": "display_data"
    }
   ],
   "source": [
    "from skfem.visuals.matplotlib import plot\n",
    "from scipy.optimize import minimize\n",
    "\n",
    "# Volume constraint parameter\n",
    "vol_constraint = 0.5\n",
    "\n",
    "# Number of elements\n",
    "N = basis.nelems\n",
    "# Initial guess is a homogeneous distribution \n",
    "rho0 = vol_constraint * np.ones(N)\n",
    "# The design variables are limited to the range 0 to 1\n",
    "bounds = N*[(0.0, 1.0)]\n",
    "# The inequality constraint limits the maximum volume occupied by filled material\n",
    "constraints = {'type':'ineq', 'fun': lambda x : vol_constraint*N-np.sum(x)}\n",
    "hess = lambda x: np.zeros((N, N))\n",
    "# Increase the maximum allowed iterations for the solver\n",
    "options = {\"maxiter\": 100}\n",
    "# Save functions values during optimization for plotting\n",
    "energies = []\n",
    "def callback(x, state):\n",
    "    energies.append(state.fun)\n",
    "\n",
    "# Run the actual optimization\n",
    "res = minimize(target_function, rho0, method=\"trust-constr\", constraints=constraints, bounds=bounds, options=options, hess=hess, callback=callback)\n",
    "print(f\"Success state:{res.success}\")\n",
    "print(f\"Iterations: {res.nit}\")\n",
    "print(f\"Solver message: {res.message}\")\n",
    "\n",
    "# Plot the optimization convergence\n",
    "plt.plot(energies, \"-k\")\n",
    "plt.xlabel(\"Iterations\")\n",
    "plt.ylabel(\"Strain energy\")\n",
    "plt.show()\n",
    "\n",
    "# plot the resulting material distribution\n",
    "plot(mesh, res.x, cmap=plt.cm.binary, colorbar=True, vmin=0, vmax=1.0)\n",
    "plt.show()"
   ]
  }
 ],
 "metadata": {
  "interpreter": {
   "hash": "27a5fe6e35c892a943dc8ba0add9e0e72bbd78f1ea55c7a21f1efdd89ab3b17d"
  },
  "kernelspec": {
   "display_name": "Python 3.9.2 64-bit ('shims': pyenv)",
   "language": "python",
   "name": "python3"
  },
  "language_info": {
   "codemirror_mode": {
    "name": "ipython",
    "version": 3
   },
   "file_extension": ".py",
   "mimetype": "text/x-python",
   "name": "python",
   "nbconvert_exporter": "python",
   "pygments_lexer": "ipython3",
   "version": "3.9.2"
  },
  "orig_nbformat": 4
 },
 "nbformat": 4,
 "nbformat_minor": 2
}
