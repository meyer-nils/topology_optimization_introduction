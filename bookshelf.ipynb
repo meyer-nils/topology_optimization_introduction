{
 "cells": [
  {
   "cell_type": "markdown",
   "metadata": {},
   "source": [
    "# Simple topology optimization for a bookshelf\n",
    "## 1 Introduction\n",
    "Let us consider a bookshelf that needs a support structure. To save material, the bookshelf should use only a fraction of a given design space, while being as stiff as possible to support many books.\n",
    "The picture below shows the available two-dimensional design domain for such a bookshelf support. The left boundary $\\partial \\Omega_D$ is fixed to the wall and the top boundary $\\partial \\Omega_N$ is loaded with a uniform line load representing the weight of books.\n",
    "\n",
    "<div>\n",
    "    <center>\n",
    "        <img src=\"img/domain.png\" width=\"250\"/>\n",
    "    </center>\n",
    "</div>\n",
    "\n",
    "We could design drafts based on engineering intuition and may even simulate their performance. This way we could find the best out of multiple intuitive designs. However, this approach does not necessarily result in the best possible design. Instead, we want to apply topology optimization to find the optimal distribution of material in the design space. This approach is not based on engineering intuition, but a formal data-driven way to find a design suggestion for the bookshelf."
   ]
  },
  {
   "cell_type": "markdown",
   "metadata": {},
   "source": [
    "## 2 Formalizing the problem statement\n",
    "\n",
    "First, the problem is described as a boundary value problem in the design domain $\\Omega$ with the wall mount boundary $\\partial \\Omega_D$ and the load boundary $\\partial \\Omega_N$. Without considering the optimization yet, we can formulate the elastic problem as \n",
    "\n",
    "$$ \\textrm{div}(\\sigma) = 0 \\quad \\textrm{on} \\quad \\Omega $$\n",
    "\n",
    "with the boundary conditions \n",
    "\n",
    "$$u = 0 \\quad \\textrm{on} \\quad \\partial\\Omega_D $$\n",
    "\n",
    "$$\\sigma \\cdot n = l \\quad \\textrm{on} \\quad \\partial\\Omega_N. $$\n",
    "\n",
    "We need to close this problem with a model that relates the stress $\\sigma$ to the displacement $u$, such that the only remaining variables to solve are the horizontal displacement $u_1$ and vertical displacement $u_2$."
   ]
  },
  {
   "cell_type": "markdown",
   "metadata": {},
   "source": [
    "## 3 Material model \n",
    "\n",
    "A material model is required to compute the stress $\\sigma$ for a given strain field, which is computed as the symmetric gradient of the displacement field via\n",
    "\n",
    "$$\\nabla^s u = \\frac{1}{2} \\left( \\nabla u + \\nabla u^\\top\\right).$$ \n",
    "\n",
    "A linear elastic material model is used to relate stress and strain via a stiffness tensor $\\mathbb{C}$ as a linear map\n",
    "\n",
    "$$ \\sigma = \\mathbb{C} : \\nabla^s u$$\n",
    "\n",
    "For an isotropic (i.e. it is orientation independend) linear material model, the stiffness tensor can be expressed in terms of the poisson ratio $\\nu$ and elastic modulus $E$. The elastic modulus $E$ should depend on the presence of material in each location of the design domain. The stiffness should vanish, if there is no material and should be equal to the full stiffness of solid material $E_0$, when there is material. To model different material distributions, the field $\\rho$ is introduced, which may be interpreted as the normalized density ranging from $0$ (there is no material) to 1 (there is solid material). Intermediate values may be interpreted as a hollow structure with voids. The stiffness at such intermediate values of $\\rho$ is ambiguous and a model is required to describe this dependency. Here, the SIMP (Solid Isotropic Material with Penalization) approach is applied to compute \n",
    "\n",
    "$$ E = E_0 \\rho^p .$$\n",
    "\n",
    "The following Code section plots the SIMP relation for $p=1$, $p=2$ and $p=3$. "
   ]
  },
  {
   "cell_type": "code",
   "execution_count": 13,
   "metadata": {},
   "outputs": [
    {
     "data": {
      "image/png": "[encoded data removed]",
      "text/plain": [
       "<Figure size 432x288 with 1 Axes>"
      ]
     },
     "metadata": {
      "needs_background": "light"
     },
     "output_type": "display_data"
    }
   ],
   "source": [
    "import matplotlib.pyplot as plt\n",
    "import numpy as np\n",
    "\n",
    "# Material parameters\n",
    "p = 3\n",
    "nu = 0.3\n",
    "E0 = 1.0\n",
    "\n",
    "# Plot the SIMP relation\n",
    "rho_plot = np.linspace(0,1,10)\n",
    "plt.plot(rho_plot, E0 * rho_plot**1.0, label=\"p=1\")\n",
    "plt.plot(rho_plot, E0 * rho_plot**2.0, label=\"p=2\")\n",
    "plt.plot(rho_plot, E0 * rho_plot**3.0, label=\"p=3\")\n",
    "plt.xlabel(r\"Normalized density $\\rho$\")\n",
    "plt.ylabel(r\"Elastic modulus $E$\")\n",
    "plt.xlim([0, 1])\n",
    "plt.ylim([0, E0])\n",
    "plt.legend()\n",
    "plt.show()\n"
   ]
  },
  {
   "cell_type": "markdown",
   "metadata": {},
   "source": [
    "## 4 Finite element method\n",
    "The Finite Element Method (FEM) is a numerical technique to solve the boundary value problem for a given field of material distribution $\\rho$. It transforms the boundary value problem to a system of linear equations \n",
    "\n",
    "$$ K \\vec{u} = B$$\n",
    "\n",
    "which can be solved for the solution vector $\\vec{u}$."
   ]
  },
  {
   "cell_type": "markdown",
   "metadata": {},
   "source": [
    "### 4.1 Mesh\n",
    "The domain is subdived in many small elements. The parameter $r$ defines, how often the square domain should be subdivided into smaller elements and is therefore a measure, how fine the solution is.\n",
    "The subdomain for the design space is defined such there is always one layer of elements at the load application region."
   ]
  },
  {
   "cell_type": "code",
   "execution_count": 14,
   "metadata": {},
   "outputs": [
    {
     "name": "stdout",
     "output_type": "stream",
     "text": [
      "Requirement already satisfied: scikit-fem in /Users/nilsmeyer/.pyenv/versions/3.9.2/lib/python3.9/site-packages (5.2.0)\n",
      "Requirement already satisfied: scipy in /Users/nilsmeyer/.pyenv/versions/3.9.2/lib/python3.9/site-packages (from scikit-fem) (1.7.2)\n",
      "Requirement already satisfied: numpy in /Users/nilsmeyer/.pyenv/versions/3.9.2/lib/python3.9/site-packages (from scikit-fem) (1.21.4)\n",
      "Note: you may need to restart the kernel to use updated packages.\n"
     ]
    },
    {
     "data": {
      "image/png": "[encoded data removed]",
      "text/plain": [
       "<Figure size 432x288 with 1 Axes>"
      ]
     },
     "metadata": {
      "needs_background": "light"
     },
     "output_type": "display_data"
    }
   ],
   "source": [
    "%pip install scikit-fem\n",
    "import skfem as fem\n",
    "from skfem.visuals.matplotlib import draw\n",
    "\n",
    "# Mesh parameters\n",
    "r = 4\n",
    "\n",
    "# Mesh and element\n",
    "mesh = fem.mesh.MeshQuad1().refined(r)\n",
    "element = fem.ElementVector(fem.ElementQuad1())\n",
    "\n",
    "# Tag top boundary and design subdomain\n",
    "mesh = mesh.with_boundaries({\"top\": lambda x : x[1] == 1})\n",
    "mesh = mesh.with_boundaries({\"left\": lambda x : x[0] == 0})\n",
    "mesh = mesh.with_subdomains({\"design\": lambda x : x[1] <= 1.0-1.0/(2.0**r)})\n",
    "\n",
    "# Draw the mesh\n",
    "draw(mesh)\n",
    "\n",
    "# Basis\n",
    "basis = fem.Basis(mesh, element)\n",
    "basis0 = basis.with_element(fem.ElementQuad0())\n",
    "design_dofs = basis0.get_dofs(elements=\"design\")"
   ]
  },
  {
   "cell_type": "markdown",
   "metadata": {},
   "source": [
    "### 4.2 Boundary conditions\n",
    "The top boundary is loaded with a uniform line load $l$ and the left boundary is a wall boundary."
   ]
  },
  {
   "cell_type": "code",
   "execution_count": 15,
   "metadata": {},
   "outputs": [],
   "source": [
    "# Select the boundary for load application\n",
    "load_boundary = fem.FacetBasis(mesh, element, facets=mesh.boundaries[\"top\"])\n",
    "# Load at top\n",
    "l = 1.0\n",
    "\n",
    "# Select the wall boundary, the values default to 0\n",
    "wall = basis.get_dofs({\"left\"})"
   ]
  },
  {
   "cell_type": "markdown",
   "metadata": {},
   "source": [
    "### 4.3 Explicit expression of the isotropic material\n",
    "\n",
    "Expressing the stiffness tensor for an isotropic material leads to\n",
    "\n",
    "$$\\sigma =  2 \\mu \\nabla^s u + \\lambda \\textrm{tr}(\\nabla^s u) I,$$ \n",
    "\n",
    "with the Lame constants \n",
    "\n",
    "$$ \\mu = \\frac{E}{2(1+\\nu)} $$ \n",
    "\n",
    "and\n",
    "\n",
    "$$ \\lambda = \\frac{E\\nu}{(1+\\nu)(1-2\\nu)}  .$$\n",
    "\n",
    "### 4.4 Weak form of the momentum equation\n",
    "\n",
    "> **_NOTE:_**  This is a bit technical. If you are not familiar with weak forms, you do not need to understand this and can skip this and go on with Section 5.\n",
    "\n",
    "The weak form of the momentum balance is \n",
    "\n",
    "$$\\underbrace{\\int_\\Omega \\left(2 \\mu \\nabla^s u + \\lambda \\textrm{tr}(\\nabla^s u) I \\right)  : \\nabla^s v dV}_{a(u,v)} = \\underbrace{\\int_{\\partial \\Omega_N} l v \\cdot n dA}_{b(v)} \\quad v \\in H^1_0(\\Omega)$$\n"
   ]
  },
  {
   "cell_type": "code",
   "execution_count": 16,
   "metadata": {},
   "outputs": [],
   "source": [
    "from skfem.helpers import dot, ddot, sym_grad, trace, eye\n",
    "\n",
    "# Helper definitions to compute Lame constants from elastic modulus\n",
    "mu_prime =  1.0 / (2.0 * (1.0 + nu))\n",
    "lbd_prime = nu / ((1.0 + nu) * (1.0 - 2.0 * nu))\n",
    "\n",
    "@fem.BilinearForm\n",
    "def a(u, v, w):\n",
    "    strain = sym_grad(u)\n",
    "    stress = w.E * (2.0 * mu_prime * strain + lbd_prime * eye(trace(strain), 2))\n",
    "    return ddot(stress, sym_grad(v))\n",
    "\n",
    "@fem.LinearForm\n",
    "def b(v, w):\n",
    "    return l * dot(w.n, v)"
   ]
  },
  {
   "cell_type": "markdown",
   "metadata": {},
   "source": [
    "## 5 Target function for topology optimization\n",
    "The FEM discretization leads to a linear system of equations \n",
    "\n",
    "$$ K \\vec{u} = B, $$\n",
    "\n",
    "where $K$ is an $m \\times m$  matrix and $B$ is an $m \\times 1$ vector with the degrees of freedom $m$. The system is solved for $\\vec{u}$, whenever this target function is called and the scalar strain energy \n",
    "\n",
    "$$ f = \\frac{1}{2} \\vec{u}^\\top K \\vec{u} $$\n",
    "\n",
    "is returned. This strain energy is the energy stored inside the structure similar to an elastic spring (you may remember the formula $f = \\frac{1}{2} ku^2$ for a spring with stiffness $k$). For a given load, the structure is considered stiff, if the strain energy is low."
   ]
  },
  {
   "cell_type": "code",
   "execution_count": 17,
   "metadata": {},
   "outputs": [],
   "source": [
    "def target_function(design):\n",
    "    # Apply normalized densities\n",
    "    rho = basis0.zeros() + 1.0\n",
    "    rho[design_dofs] = design\n",
    "\n",
    "    # Penalized material property field\n",
    "    E = E0 * rho**p\n",
    "\n",
    "    # Assembly\n",
    "    K = fem.asm(a, basis, E=basis0.interpolate(E))\n",
    "    B = fem.asm(b, load_boundary)\n",
    "\n",
    "    # Solution\n",
    "    u = fem.solve(*fem.condense(K, B, D=wall))\n",
    "    \n",
    "    # Evaluation of strain energy\n",
    "    return 0.5 * (u @ K @ u)"
   ]
  },
  {
   "cell_type": "markdown",
   "metadata": {},
   "source": [
    "## 6 Optimization\n",
    "The optimization task is the minimization of the strain energy $f$ for a given maximum volume fraction $v$: \n",
    "\n",
    "$$ \\textrm{mininimize} \\quad f(\\rho) $$\n",
    "subject to\n",
    "$$ \\sum_{i=0}^N \\hat{\\rho}_i < v N $$\n",
    "$$ 0.01 < \\hat{\\rho}_i < 1.0 $$"
   ]
  },
  {
   "cell_type": "code",
   "execution_count": 18,
   "metadata": {},
   "outputs": [
    {
     "name": "stderr",
     "output_type": "stream",
     "text": [
      "/Users/nilsmeyer/.pyenv/versions/3.9.2/lib/python3.9/site-packages/scipy/optimize/optimize.py:282: RuntimeWarning: Values in x were outside bounds during a minimize step, clipping to bounds\n",
      "  warnings.warn(\"Values in x were outside bounds during a \"\n"
     ]
    },
    {
     "name": "stdout",
     "output_type": "stream",
     "text": [
      "Success state:True\n",
      "Iterations: 45\n",
      "Solver message: Optimization terminated successfully\n",
      "Final strain energy: 1.9805491228763867\n"
     ]
    },
    {
     "data": {
      "image/png": "[encoded data removed]",
      "text/plain": [
       "<Figure size 432x288 with 1 Axes>"
      ]
     },
     "metadata": {
      "needs_background": "light"
     },
     "output_type": "display_data"
    },
    {
     "data": {
      "image/png": "[encoded data removed]",
      "text/plain": [
       "<Figure size 432x288 with 1 Axes>"
      ]
     },
     "metadata": {
      "needs_background": "light"
     },
     "output_type": "display_data"
    }
   ],
   "source": [
    "from skfem.visuals.matplotlib import plot\n",
    "from scipy.optimize import minimize\n",
    "\n",
    "# Volume constraint parameter\n",
    "vol_constraint = 0.4\n",
    "\n",
    "# Number of elements\n",
    "N = len(basis0.get_dofs(elements=\"design\").flatten())\n",
    "# Initial guess is a homogeneous distribution \n",
    "rho0 = vol_constraint * np.ones(N)\n",
    "# The design variables are limited to the range 0.01 to 1\n",
    "bounds = N*[(0.01, 1.0)]\n",
    "# The inequality constraint limits the maximum volume occupied by filled material\n",
    "constraints = {'type':'ineq', 'fun': lambda x : vol_constraint*N-np.sum(x)}\n",
    "# Save intermediate designs during optimization for plotting\n",
    "designs = []\n",
    "def callback(x, *args):\n",
    "    designs.append(x)\n",
    "\n",
    "# Run the actual optimization\n",
    "res = minimize(\n",
    "    target_function,\n",
    "    rho0,\n",
    "    constraints=constraints,\n",
    "    bounds=bounds,\n",
    "    callback=callback)\n",
    "energies = [target_function(d) for d in designs]\n",
    "print(f\"Success state:{res.success}\")\n",
    "print(f\"Iterations: {res.nit}\")\n",
    "print(f\"Solver message: {res.message}\")\n",
    "print(f\"Final strain energy: {energies[-1]}\")\n",
    "\n",
    "# Plot the optimization convergence\n",
    "plt.plot(energies, \"-k\")\n",
    "plt.xlabel(\"Iterations\")\n",
    "plt.ylabel(\"Strain energy\")\n",
    "plt.show()\n",
    "\n",
    "# plot the resulting material distribution\n",
    "rho = basis0.zeros() + 1.0\n",
    "rho[design_dofs] = res.x\n",
    "plot(mesh, rho, cmap=plt.cm.binary, vmin=0, vmax=1.0)\n",
    "plt.show()"
   ]
  },
  {
   "cell_type": "markdown",
   "metadata": {},
   "source": [
    "## 7 Tasks\n",
    "\n",
    "### 7.1 Influence of parameters \n",
    "a) Modify the SIMP penalization parameter $p$ in Cell 1 and run the optimization again. What do you observe, if you set the parameter to $p=1$? "
   ]
  },
  {
   "cell_type": "markdown",
   "metadata": {},
   "source": []
  },
  {
   "cell_type": "markdown",
   "metadata": {},
   "source": [
    "b) Which parameter of $p$ makes it easy to intepret the result?"
   ]
  },
  {
   "cell_type": "markdown",
   "metadata": {},
   "source": []
  },
  {
   "cell_type": "markdown",
   "metadata": {},
   "source": [
    "c) Modify the mesh refinements $r$ in Cell 2 (e.g. $r=3$ or $r=5$) and run the optimization again. How does it affect the computation time and the results?\n"
   ]
  },
  {
   "cell_type": "markdown",
   "metadata": {},
   "source": []
  },
  {
   "cell_type": "markdown",
   "metadata": {},
   "source": [
    "d) Modify the volume fraction $v$ in Cell 6 (e.g. $v=0.2$ or $v=0.6$) and run the optimization again. Do the results agree with your engineering intuition?"
   ]
  },
  {
   "cell_type": "markdown",
   "metadata": {},
   "source": []
  },
  {
   "cell_type": "markdown",
   "metadata": {},
   "source": [
    "### 7.2 Interpretation of result\n",
    "\n",
    "a) You may observe some regions with a checkerboard pattern. Perform a short literature research to find the reason for such patterns and how to interpret them."
   ]
  },
  {
   "cell_type": "markdown",
   "metadata": {},
   "source": []
  },
  {
   "cell_type": "markdown",
   "metadata": {},
   "source": [
    "b) Pick parameters for $v$, $r$ and $p$ and use your favorie CAD program to draw a bookshelf model based on the optimization result."
   ]
  },
  {
   "cell_type": "markdown",
   "metadata": {},
   "source": []
  },
  {
   "cell_type": "markdown",
   "metadata": {},
   "source": [
    "### 7.3 Extensions of the model (advanced)\n",
    "These tasks require you to modify the code and may require you to take a look at the documentation of [scikit-fem](https://scikit-fem.readthedocs.io/en/latest/). \n",
    "\n",
    "a) Extend the model to account for a gravitational load, such that the elastic equation becomes \n",
    "\n",
    "$$\\textrm{div}(\\sigma) = \\rho g.$$\n",
    "\n"
   ]
  },
  {
   "cell_type": "markdown",
   "metadata": {},
   "source": []
  },
  {
   "cell_type": "markdown",
   "metadata": {},
   "source": [
    "b) If the books are shorter than the bookshelf, the line load is not uniform but shifted to the left. Modify the code to account for a line load of the form \n",
    "\n",
    "$$l(x_1) = 20(1-x_1) \\quad x_1 \\in [0,1].$$"
   ]
  },
  {
   "cell_type": "markdown",
   "metadata": {},
   "source": []
  }
 ],
 "metadata": {
  "interpreter": {
   "hash": "27a5fe6e35c892a943dc8ba0add9e0e72bbd78f1ea55c7a21f1efdd89ab3b17d"
  },
  "kernelspec": {
   "display_name": "Python 3.9.2 64-bit ('shims': pyenv)",
   "language": "python",
   "name": "python3"
  },
  "language_info": {
   "codemirror_mode": {
    "name": "ipython",
    "version": 3
   },
   "file_extension": ".py",
   "mimetype": "text/x-python",
   "name": "python",
   "nbconvert_exporter": "python",
   "pygments_lexer": "ipython3",
   "version": "3.9.2"
  },
  "orig_nbformat": 4
 },
 "nbformat": 4,
 "nbformat_minor": 2
}
